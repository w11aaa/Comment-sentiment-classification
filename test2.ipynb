{
 "cells": [
  {
   "metadata": {
    "ExecuteTime": {
     "end_time": "2025-03-24T11:08:28.559272Z",
     "start_time": "2025-03-24T11:08:28.549761Z"
    }
   },
   "cell_type": "code",
   "source": [
    "import collections\n",
    "\n",
    "import datasets\n",
    "import matplotlib.pyplot as plt\n",
    "import numpy as np\n",
    "import torch\n",
    "import torch.nn as nn\n",
    "import torch.optim as optim\n",
    "import torchtext\n",
    "import tqdm\n",
    "import transformers"
   ],
   "id": "6d56516904d4dee0",
   "outputs": [],
   "execution_count": 35
  },
  {
   "metadata": {
    "ExecuteTime": {
     "end_time": "2025-03-24T11:08:28.589659Z",
     "start_time": "2025-03-24T11:08:28.572262Z"
    }
   },
   "cell_type": "code",
   "source": [
    "seed = 1234\n",
    "\n",
    "np.random.seed(seed)\n",
    "torch.manual_seed(seed)\n",
    "torch.cuda.manual_seed(seed)\n",
    "torch.backends.cudnn.deterministic = True"
   ],
   "id": "9ce89f5680e9614b",
   "outputs": [],
   "execution_count": 36
  },
  {
   "metadata": {
    "ExecuteTime": {
     "end_time": "2025-03-24T11:08:49.702519Z",
     "start_time": "2025-03-24T11:08:28.618284Z"
    }
   },
   "cell_type": "code",
   "source": [
    "train_data = datasets.load_dataset(\"XiangPan/waimai_10k\", split=\"train\")\n",
    "train_data=train_data.shuffle(42)\n",
    "train_data, test_data = train_data.train_test_split(test_size=0.2).values()\n",
    "train_data, test_data"
   ],
   "id": "ba5ea7f843aec94c",
   "outputs": [
    {
     "name": "stderr",
     "output_type": "stream",
     "text": [
      "Using the latest cached version of the dataset since XiangPan/waimai_10k couldn't be found on the Hugging Face Hub\n",
      "Found the latest cached dataset configuration 'default' at C:\\Users\\洋\\.cache\\huggingface\\datasets\\XiangPan___waimai_10k\\default\\0.0.0\\dbb125403842b8924d864f09f1c0eb357bd57435 (last modified on Mon Mar 24 15:30:14 2025).\n"
     ]
    },
    {
     "data": {
      "text/plain": [
       "(Dataset({\n",
       "     features: ['label', 'text'],\n",
       "     num_rows: 9589\n",
       " }),\n",
       " Dataset({\n",
       "     features: ['label', 'text'],\n",
       "     num_rows: 2398\n",
       " }))"
      ]
     },
     "execution_count": 37,
     "metadata": {},
     "output_type": "execute_result"
    }
   ],
   "execution_count": 37
  },
  {
   "metadata": {
    "ExecuteTime": {
     "end_time": "2025-03-24T11:08:59.755046Z",
     "start_time": "2025-03-24T11:08:49.704127Z"
    }
   },
   "cell_type": "code",
   "source": [
    "transformer_name = \"bert-base-chinese\"\n",
    "\n",
    "tokenizer = transformers.AutoTokenizer.from_pretrained(transformer_name)"
   ],
   "id": "db5c19398ef17854",
   "outputs": [],
   "execution_count": 38
  },
  {
   "metadata": {
    "ExecuteTime": {
     "end_time": "2025-03-24T11:08:59.770176Z",
     "start_time": "2025-03-24T11:08:59.756565Z"
    }
   },
   "cell_type": "code",
   "source": "tokenizer.tokenize(\"我的梦想！\")",
   "id": "481c443b755e6d62",
   "outputs": [
    {
     "data": {
      "text/plain": [
       "['我', '的', '梦', '想', '！']"
      ]
     },
     "execution_count": 39,
     "metadata": {},
     "output_type": "execute_result"
    }
   ],
   "execution_count": 39
  },
  {
   "metadata": {
    "ExecuteTime": {
     "end_time": "2025-03-24T11:08:59.785733Z",
     "start_time": "2025-03-24T11:08:59.772185Z"
    }
   },
   "cell_type": "code",
   "source": "tokenizer.encode(\"我的梦想！\")",
   "id": "83871d3d7d9d46f",
   "outputs": [
    {
     "data": {
      "text/plain": [
       "[101, 2769, 4638, 3457, 2682, 8013, 102]"
      ]
     },
     "execution_count": 40,
     "metadata": {},
     "output_type": "execute_result"
    }
   ],
   "execution_count": 40
  },
  {
   "metadata": {
    "ExecuteTime": {
     "end_time": "2025-03-24T11:08:59.801392Z",
     "start_time": "2025-03-24T11:08:59.787723Z"
    }
   },
   "cell_type": "code",
   "source": "tokenizer.convert_ids_to_tokens(tokenizer.encode(\"我的梦想!\"))",
   "id": "6c969e6bc319fba7",
   "outputs": [
    {
     "data": {
      "text/plain": [
       "['[CLS]', '我', '的', '梦', '想', '!', '[SEP]']"
      ]
     },
     "execution_count": 41,
     "metadata": {},
     "output_type": "execute_result"
    }
   ],
   "execution_count": 41
  },
  {
   "metadata": {
    "ExecuteTime": {
     "end_time": "2025-03-24T11:08:59.816886Z",
     "start_time": "2025-03-24T11:08:59.802314Z"
    }
   },
   "cell_type": "code",
   "source": "tokenizer(\"我的梦想！\")",
   "id": "b13aea6e65357d34",
   "outputs": [
    {
     "data": {
      "text/plain": [
       "{'input_ids': [101, 2769, 4638, 3457, 2682, 8013, 102], 'token_type_ids': [0, 0, 0, 0, 0, 0, 0], 'attention_mask': [1, 1, 1, 1, 1, 1, 1]}"
      ]
     },
     "execution_count": 42,
     "metadata": {},
     "output_type": "execute_result"
    }
   ],
   "execution_count": 42
  },
  {
   "metadata": {
    "ExecuteTime": {
     "end_time": "2025-03-24T11:08:59.832036Z",
     "start_time": "2025-03-24T11:08:59.817888Z"
    }
   },
   "cell_type": "code",
   "source": [
    "def tokenize_and_numericalize_example(example, tokenizer):\n",
    "    ids = tokenizer(example[\"text\"], truncation=True)[\"input_ids\"]\n",
    "    return {\"ids\": ids}"
   ],
   "id": "fe9f46b8556e3ab",
   "outputs": [],
   "execution_count": 43
  },
  {
   "metadata": {
    "ExecuteTime": {
     "end_time": "2025-03-24T11:09:00.110773Z",
     "start_time": "2025-03-24T11:08:59.832968Z"
    }
   },
   "cell_type": "code",
   "source": [
    "train_data = train_data.map(\n",
    "    tokenize_and_numericalize_example, fn_kwargs={\"tokenizer\": tokenizer}\n",
    ")\n",
    "test_data = test_data.map(\n",
    "    tokenize_and_numericalize_example, fn_kwargs={\"tokenizer\": tokenizer}\n",
    ")"
   ],
   "id": "12ee8143179794ab",
   "outputs": [
    {
     "name": "stderr",
     "output_type": "stream",
     "text": [
      "Map: 100%|██████████| 2398/2398 [00:00<00:00, 9272.64 examples/s]\n"
     ]
    }
   ],
   "execution_count": 44
  },
  {
   "metadata": {
    "ExecuteTime": {
     "end_time": "2025-03-24T11:09:00.126560Z",
     "start_time": "2025-03-24T11:09:00.111742Z"
    }
   },
   "cell_type": "code",
   "source": "train_data",
   "id": "53b99c451b93affd",
   "outputs": [
    {
     "data": {
      "text/plain": [
       "Dataset({\n",
       "    features: ['label', 'text', 'ids'],\n",
       "    num_rows: 9589\n",
       "})"
      ]
     },
     "execution_count": 45,
     "metadata": {},
     "output_type": "execute_result"
    }
   ],
   "execution_count": 45
  },
  {
   "metadata": {
    "ExecuteTime": {
     "end_time": "2025-03-24T11:09:00.142167Z",
     "start_time": "2025-03-24T11:09:00.128552Z"
    }
   },
   "cell_type": "code",
   "source": [
    "train_data = train_data.with_format(type=\"torch\", columns=[\"ids\", \"label\"])\n",
    "test_data = test_data.with_format(type=\"torch\", columns=[\"ids\", \"label\"])"
   ],
   "id": "987be0fde4923aef",
   "outputs": [],
   "execution_count": 46
  },
  {
   "metadata": {
    "ExecuteTime": {
     "end_time": "2025-03-24T11:09:00.157528Z",
     "start_time": "2025-03-24T11:09:00.143107Z"
    }
   },
   "cell_type": "code",
   "source": [
    "def get_collate_fn(pad_index):\n",
    "    def collate_fn(batch):\n",
    "        batch_ids = [i[\"ids\"] for i in batch]\n",
    "        batch_ids = nn.utils.rnn.pad_sequence(\n",
    "            batch_ids, padding_value=pad_index, batch_first=True\n",
    "        )\n",
    "        batch_label = [i[\"label\"] for i in batch]\n",
    "        batch_label = torch.stack(batch_label)\n",
    "        batch = {\"ids\": batch_ids, \"label\": batch_label}\n",
    "        return batch\n",
    "\n",
    "    return collate_fn"
   ],
   "id": "64d8b70dbd2eb27d",
   "outputs": [],
   "execution_count": 47
  },
  {
   "metadata": {
    "ExecuteTime": {
     "end_time": "2025-03-24T11:09:00.172573Z",
     "start_time": "2025-03-24T11:09:00.158528Z"
    }
   },
   "cell_type": "code",
   "source": [
    "def get_data_loader(dataset, batch_size, pad_index, shuffle=False):\n",
    "    collate_fn = get_collate_fn(pad_index)\n",
    "    data_loader = torch.utils.data.DataLoader(\n",
    "        dataset=dataset,\n",
    "        batch_size=batch_size,\n",
    "        collate_fn=collate_fn,\n",
    "        shuffle=shuffle,\n",
    "    )\n",
    "    return data_loader"
   ],
   "id": "94b2c089f48cae4a",
   "outputs": [],
   "execution_count": 48
  },
  {
   "metadata": {
    "ExecuteTime": {
     "end_time": "2025-03-24T11:09:00.188050Z",
     "start_time": "2025-03-24T11:09:00.173571Z"
    }
   },
   "cell_type": "code",
   "source": [
    "pad_index = tokenizer.pad_token_id\n",
    "batch_size = 8\n",
    "\n",
    "train_data_loader = get_data_loader(train_data, batch_size, pad_index, shuffle=True)\n",
    "test_data_loader = get_data_loader(test_data, batch_size, pad_index)"
   ],
   "id": "9f8eb4c497604d69",
   "outputs": [],
   "execution_count": 49
  },
  {
   "metadata": {
    "ExecuteTime": {
     "end_time": "2025-03-24T11:09:00.203606Z",
     "start_time": "2025-03-24T11:09:00.189604Z"
    }
   },
   "cell_type": "code",
   "source": [
    "class Transformer(nn.Module):\n",
    "    def __init__(self, transformer, output_dim, freeze):\n",
    "        super().__init__()\n",
    "        self.transformer = transformer\n",
    "        hidden_dim = transformer.config.hidden_size\n",
    "        self.fc = nn.Linear(hidden_dim, output_dim)\n",
    "        if freeze:\n",
    "            for param in self.transformer.parameters():\n",
    "                param.requires_grad = False\n",
    "\n",
    "    def forward(self, ids):\n",
    "        # ids = [batch size, seq len]\n",
    "        output = self.transformer(ids, output_attentions=True)\n",
    "        hidden = output.last_hidden_state\n",
    "        # hidden = [batch size, seq len, hidden dim]\n",
    "        attention = output.attentions[-1]\n",
    "        # attention = [batch size, n heads, seq len, seq len]\n",
    "        cls_hidden = hidden[:, 0, :]\n",
    "        prediction = self.fc(torch.tanh(cls_hidden))\n",
    "        # prediction = [batch size, output dim]\n",
    "        return prediction"
   ],
   "id": "5e4e16c1b1f9901b",
   "outputs": [],
   "execution_count": 50
  },
  {
   "metadata": {
    "ExecuteTime": {
     "end_time": "2025-03-24T11:09:10.268393Z",
     "start_time": "2025-03-24T11:09:00.207606Z"
    }
   },
   "cell_type": "code",
   "source": "transformer = transformers.AutoModel.from_pretrained(\"bert-base-chinese\")",
   "id": "dfb24b9d10dd2088",
   "outputs": [],
   "execution_count": 51
  },
  {
   "metadata": {
    "ExecuteTime": {
     "end_time": "2025-03-24T11:09:10.284432Z",
     "start_time": "2025-03-24T11:09:10.269405Z"
    }
   },
   "cell_type": "code",
   "source": "transformer.config.hidden_size",
   "id": "15c7c4b5f67d87d7",
   "outputs": [
    {
     "data": {
      "text/plain": [
       "768"
      ]
     },
     "execution_count": 52,
     "metadata": {},
     "output_type": "execute_result"
    }
   ],
   "execution_count": 52
  },
  {
   "metadata": {
    "ExecuteTime": {
     "end_time": "2025-03-24T11:09:10.299460Z",
     "start_time": "2025-03-24T11:09:10.284935Z"
    }
   },
   "cell_type": "code",
   "source": [
    "output_dim = len(train_data[\"label\"].unique())\n",
    "freeze = False\n",
    "\n",
    "model = Transformer(transformer, output_dim, freeze)"
   ],
   "id": "d6e0a7bbffc64d1e",
   "outputs": [],
   "execution_count": 53
  },
  {
   "metadata": {
    "ExecuteTime": {
     "end_time": "2025-03-24T11:09:10.314965Z",
     "start_time": "2025-03-24T11:09:10.299963Z"
    }
   },
   "cell_type": "code",
   "source": [
    "def count_parameters(model):\n",
    "    \"\"\"\n",
    "    计算模型中可训练参数的数量。\n",
    "\n",
    "    参数:\n",
    "    model (nn.Module): 要计算参数数量的 PyTorch 模型。\n",
    "\n",
    "    返回:\n",
    "    int: 模型中可训练参数的数量。\n",
    "    \"\"\"\n",
    "    return sum(p.numel() for p in model.parameters() if p.requires_grad)\n",
    "\n",
    "# 打印模型可训练参数的数量\n",
    "print(f\"The model has {count_parameters(model):,} trainable parameters\")"
   ],
   "id": "80c04ebd7148716d",
   "outputs": [
    {
     "name": "stdout",
     "output_type": "stream",
     "text": [
      "The model has 102,269,186 trainable parameters\n"
     ]
    }
   ],
   "execution_count": 54
  },
  {
   "metadata": {
    "ExecuteTime": {
     "end_time": "2025-03-24T11:09:10.330892Z",
     "start_time": "2025-03-24T11:09:10.316488Z"
    }
   },
   "cell_type": "code",
   "source": [
    "lr = 1e-5\n",
    "\n",
    "optimizer = optim.Adam(model.parameters(), lr=lr)\n",
    "criterion = nn.CrossEntropyLoss()\n",
    "device = torch.device(\"cuda\" if torch.cuda.is_available() else \"cpu\")\n",
    "\n",
    "device"
   ],
   "id": "1f4fa629e32b439a",
   "outputs": [
    {
     "data": {
      "text/plain": [
       "device(type='cuda')"
      ]
     },
     "execution_count": 55,
     "metadata": {},
     "output_type": "execute_result"
    }
   ],
   "execution_count": 55
  },
  {
   "metadata": {
    "ExecuteTime": {
     "end_time": "2025-03-24T11:09:10.596122Z",
     "start_time": "2025-03-24T11:09:10.331908Z"
    }
   },
   "cell_type": "code",
   "source": [
    "model = model.to(device)\n",
    "criterion = criterion.to(device)"
   ],
   "id": "13ceb636252af26f",
   "outputs": [],
   "execution_count": 56
  },
  {
   "metadata": {
    "ExecuteTime": {
     "end_time": "2025-03-24T11:09:10.611298Z",
     "start_time": "2025-03-24T11:09:10.597114Z"
    }
   },
   "cell_type": "code",
   "source": [
    "def train(data_loader, model, criterion, optimizer, device):\n",
    "    model.train()\n",
    "    epoch_losses = []\n",
    "    epoch_accs = []\n",
    "    for batch in tqdm.tqdm(data_loader, desc=\"training...\"):\n",
    "        ids = batch[\"ids\"].to(device)\n",
    "        label = batch[\"label\"].to(device)\n",
    "        prediction = model(ids)\n",
    "        loss = criterion(prediction, label)\n",
    "        accuracy = get_accuracy(prediction, label)\n",
    "        optimizer.zero_grad()\n",
    "        loss.backward()\n",
    "        optimizer.step()\n",
    "        epoch_losses.append(loss.item())\n",
    "        epoch_accs.append(accuracy.item())\n",
    "    return np.mean(epoch_losses), np.mean(epoch_accs)"
   ],
   "id": "d33cc099ad9da2f0",
   "outputs": [],
   "execution_count": 57
  },
  {
   "metadata": {
    "ExecuteTime": {
     "end_time": "2025-03-24T11:09:10.626778Z",
     "start_time": "2025-03-24T11:09:10.611817Z"
    }
   },
   "cell_type": "code",
   "source": [
    "def evaluate(data_loader, model, criterion, device):\n",
    "    model.eval()\n",
    "    epoch_losses = []\n",
    "    epoch_accs = []\n",
    "    with torch.no_grad():\n",
    "        for batch in tqdm.tqdm(data_loader, desc=\"evaluating...\"):\n",
    "            ids = batch[\"ids\"].to(device)\n",
    "            label = batch[\"label\"].to(device)\n",
    "            prediction = model(ids)\n",
    "            loss = criterion(prediction, label)\n",
    "            accuracy = get_accuracy(prediction, label)\n",
    "            epoch_losses.append(loss.item())\n",
    "            epoch_accs.append(accuracy.item())\n",
    "    return np.mean(epoch_losses), np.mean(epoch_accs)"
   ],
   "id": "3e2e914cb4bed167",
   "outputs": [],
   "execution_count": 58
  },
  {
   "metadata": {
    "ExecuteTime": {
     "end_time": "2025-03-24T11:09:10.642540Z",
     "start_time": "2025-03-24T11:09:10.627771Z"
    }
   },
   "cell_type": "code",
   "source": [
    "def get_accuracy(prediction, label):\n",
    "    batch_size, _ = prediction.shape\n",
    "    predicted_classes = prediction.argmax(dim=-1)\n",
    "    correct_predictions = predicted_classes.eq(label).sum()\n",
    "    accuracy = correct_predictions / batch_size\n",
    "    return accuracy"
   ],
   "id": "85780584cd1baf90",
   "outputs": [],
   "execution_count": 59
  },
  {
   "metadata": {
    "ExecuteTime": {
     "end_time": "2025-03-24T11:29:04.212985Z",
     "start_time": "2025-03-24T11:09:10.643497Z"
    }
   },
   "cell_type": "code",
   "source": [
    "n_epochs = 10\n",
    "best_valid_loss = float(\"inf\")\n",
    "\n",
    "metrics = collections.defaultdict(list)\n",
    "\n",
    "for epoch in range(n_epochs):\n",
    "    train_loss, train_acc = train(\n",
    "        train_data_loader, model, criterion, optimizer, device\n",
    "    )\n",
    "    valid_loss, valid_acc = evaluate(test_data_loader, model, criterion, device)\n",
    "    metrics[\"train_losses\"].append(train_loss)\n",
    "    metrics[\"train_accs\"].append(train_acc)\n",
    "    metrics[\"valid_losses\"].append(valid_loss)\n",
    "    metrics[\"valid_accs\"].append(valid_acc)\n",
    "    if valid_loss < best_valid_loss:\n",
    "        best_valid_loss = valid_loss\n",
    "        torch.save(model.state_dict(), \"transformer.pt\")\n",
    "    print(f\"epoch: {epoch}\")\n",
    "    print(f\"train_loss: {train_loss:.3f}, train_acc: {train_acc:.3f}\")\n",
    "    print(f\"valid_loss: {valid_loss:.3f}, valid_acc: {valid_acc:.3f}\")"
   ],
   "id": "7f48766f3c9481fa",
   "outputs": [
    {
     "name": "stderr",
     "output_type": "stream",
     "text": [
      "training...: 100%|██████████| 1199/1199 [01:48<00:00, 11.08it/s]\n",
      "evaluating...: 100%|██████████| 300/300 [00:07<00:00, 39.61it/s]\n"
     ]
    },
    {
     "name": "stdout",
     "output_type": "stream",
     "text": [
      "epoch: 0\n",
      "train_loss: 0.283, train_acc: 0.889\n",
      "valid_loss: 0.218, valid_acc: 0.917\n"
     ]
    },
    {
     "name": "stderr",
     "output_type": "stream",
     "text": [
      "training...: 100%|██████████| 1199/1199 [01:49<00:00, 10.94it/s]\n",
      "evaluating...: 100%|██████████| 300/300 [00:07<00:00, 37.83it/s]\n"
     ]
    },
    {
     "name": "stdout",
     "output_type": "stream",
     "text": [
      "epoch: 1\n",
      "train_loss: 0.207, train_acc: 0.925\n",
      "valid_loss: 0.215, valid_acc: 0.922\n"
     ]
    },
    {
     "name": "stderr",
     "output_type": "stream",
     "text": [
      "training...: 100%|██████████| 1199/1199 [01:50<00:00, 10.85it/s]\n",
      "evaluating...: 100%|██████████| 300/300 [00:09<00:00, 31.16it/s]\n"
     ]
    },
    {
     "name": "stdout",
     "output_type": "stream",
     "text": [
      "epoch: 2\n",
      "train_loss: 0.150, train_acc: 0.945\n",
      "valid_loss: 0.237, valid_acc: 0.912\n"
     ]
    },
    {
     "name": "stderr",
     "output_type": "stream",
     "text": [
      "training...: 100%|██████████| 1199/1199 [01:49<00:00, 10.99it/s]\n",
      "evaluating...: 100%|██████████| 300/300 [00:09<00:00, 33.18it/s]\n"
     ]
    },
    {
     "name": "stdout",
     "output_type": "stream",
     "text": [
      "epoch: 3\n",
      "train_loss: 0.103, train_acc: 0.964\n",
      "valid_loss: 0.264, valid_acc: 0.917\n"
     ]
    },
    {
     "name": "stderr",
     "output_type": "stream",
     "text": [
      "training...: 100%|██████████| 1199/1199 [01:48<00:00, 11.03it/s]\n",
      "evaluating...: 100%|██████████| 300/300 [00:08<00:00, 33.51it/s]\n"
     ]
    },
    {
     "name": "stdout",
     "output_type": "stream",
     "text": [
      "epoch: 4\n",
      "train_loss: 0.073, train_acc: 0.973\n",
      "valid_loss: 0.327, valid_acc: 0.914\n"
     ]
    },
    {
     "name": "stderr",
     "output_type": "stream",
     "text": [
      "training...: 100%|██████████| 1199/1199 [01:48<00:00, 11.01it/s]\n",
      "evaluating...: 100%|██████████| 300/300 [00:09<00:00, 32.98it/s]\n"
     ]
    },
    {
     "name": "stdout",
     "output_type": "stream",
     "text": [
      "epoch: 5\n",
      "train_loss: 0.051, train_acc: 0.981\n",
      "valid_loss: 0.329, valid_acc: 0.910\n"
     ]
    },
    {
     "name": "stderr",
     "output_type": "stream",
     "text": [
      "training...: 100%|██████████| 1199/1199 [01:48<00:00, 11.08it/s]\n",
      "evaluating...: 100%|██████████| 300/300 [00:08<00:00, 36.08it/s]\n"
     ]
    },
    {
     "name": "stdout",
     "output_type": "stream",
     "text": [
      "epoch: 6\n",
      "train_loss: 0.040, train_acc: 0.986\n",
      "valid_loss: 0.407, valid_acc: 0.909\n"
     ]
    },
    {
     "name": "stderr",
     "output_type": "stream",
     "text": [
      "training...: 100%|██████████| 1199/1199 [01:48<00:00, 11.03it/s]\n",
      "evaluating...: 100%|██████████| 300/300 [00:08<00:00, 36.55it/s]\n"
     ]
    },
    {
     "name": "stdout",
     "output_type": "stream",
     "text": [
      "epoch: 7\n",
      "train_loss: 0.033, train_acc: 0.989\n",
      "valid_loss: 0.400, valid_acc: 0.903\n"
     ]
    },
    {
     "name": "stderr",
     "output_type": "stream",
     "text": [
      "training...: 100%|██████████| 1199/1199 [01:51<00:00, 10.80it/s]\n",
      "evaluating...: 100%|██████████| 300/300 [00:08<00:00, 33.96it/s]\n"
     ]
    },
    {
     "name": "stdout",
     "output_type": "stream",
     "text": [
      "epoch: 8\n",
      "train_loss: 0.028, train_acc: 0.990\n",
      "valid_loss: 0.467, valid_acc: 0.908\n"
     ]
    },
    {
     "name": "stderr",
     "output_type": "stream",
     "text": [
      "training...: 100%|██████████| 1199/1199 [02:00<00:00,  9.92it/s]\n",
      "evaluating...: 100%|██████████| 300/300 [00:11<00:00, 26.56it/s]"
     ]
    },
    {
     "name": "stdout",
     "output_type": "stream",
     "text": [
      "epoch: 9\n",
      "train_loss: 0.032, train_acc: 0.989\n",
      "valid_loss: 0.494, valid_acc: 0.894\n"
     ]
    },
    {
     "name": "stderr",
     "output_type": "stream",
     "text": [
      "\n"
     ]
    }
   ],
   "execution_count": 60
  },
  {
   "metadata": {
    "ExecuteTime": {
     "end_time": "2025-03-24T11:29:04.414346Z",
     "start_time": "2025-03-24T11:29:04.215322Z"
    }
   },
   "cell_type": "code",
   "source": [
    "    print(f\"valid_loss: {valid_loss:.3f}, valid_acc: {valid_acc:.3f}\")\n",
    "fig = plt.figure(figsize=(10, 6))\n",
    "ax = fig.add_subplot(1, 1, 1)\n",
    "ax.plot(metrics[\"train_losses\"], label=\"train loss\")\n",
    "ax.plot(metrics[\"valid_losses\"], label=\"valid loss\")\n",
    "ax.set_xlabel(\"epoch\")\n",
    "ax.set_ylabel(\"loss\")\n",
    "ax.set_xticks(range(n_epochs))\n",
    "ax.legend()\n",
    "ax.grid()"
   ],
   "id": "a981f152e754a3d6",
   "outputs": [
    {
     "name": "stdout",
     "output_type": "stream",
     "text": [
      "valid_loss: 0.494, valid_acc: 0.894\n"
     ]
    },
    {
     "data": {
      "text/plain": [
       "<Figure size 1000x600 with 1 Axes>"
      ],
      "image/png": "[encoded data removed]"
     },
     "metadata": {},
     "output_type": "display_data"
    }
   ],
   "execution_count": 61
  },
  {
   "metadata": {
    "ExecuteTime": {
     "end_time": "2025-03-24T11:29:04.616239Z",
     "start_time": "2025-03-24T11:29:04.415713Z"
    }
   },
   "cell_type": "code",
   "source": [
    "fig = plt.figure(figsize=(10, 6))\n",
    "ax = fig.add_subplot(1, 1, 1)\n",
    "ax.plot(metrics[\"train_accs\"], label=\"train accuracy\")\n",
    "ax.plot(metrics[\"valid_accs\"], label=\"valid accuracy\")\n",
    "ax.set_xlabel(\"epoch\")\n",
    "ax.set_ylabel(\"loss\")\n",
    "ax.set_xticks(range(n_epochs))\n",
    "ax.legend()\n",
    "ax.grid()"
   ],
   "id": "4d0dcfed40c3f73b",
   "outputs": [
    {
     "data": {
      "text/plain": [
       "<Figure size 1000x600 with 1 Axes>"
      ],
      "image/png": "[encoded data removed]"
     },
     "metadata": {},
     "output_type": "display_data"
    }
   ],
   "execution_count": 62
  },
  {
   "metadata": {
    "ExecuteTime": {
     "end_time": "2025-03-24T11:29:18.597211Z",
     "start_time": "2025-03-24T11:29:04.617235Z"
    }
   },
   "cell_type": "code",
   "source": [
    "model.load_state_dict(torch.load(\"transformer.pt\"))\n",
    "\n",
    "test_loss, test_acc = evaluate(test_data_loader, model, criterion, device)\n",
    "print(f\"test_loss: {test_loss:.3f}, test_acc: {test_acc:.3f}\")"
   ],
   "id": "b5633a26b9124376",
   "outputs": [
    {
     "name": "stderr",
     "output_type": "stream",
     "text": [
      "evaluating...: 100%|██████████| 300/300 [00:13<00:00, 22.21it/s]"
     ]
    },
    {
     "name": "stdout",
     "output_type": "stream",
     "text": [
      "test_loss: 0.215, test_acc: 0.922\n"
     ]
    },
    {
     "name": "stderr",
     "output_type": "stream",
     "text": [
      "\n"
     ]
    }
   ],
   "execution_count": 63
  },
  {
   "metadata": {
    "ExecuteTime": {
     "end_time": "2025-03-24T11:43:21.113850Z",
     "start_time": "2025-03-24T11:43:21.103076Z"
    }
   },
   "cell_type": "code",
   "source": [
    "def predict_sentiment(text, model, tokenizer, device):\n",
    "    ids = tokenizer(text)[\"input_ids\"]\n",
    "    tensor = torch.LongTensor(ids).unsqueeze(dim=0).to(device)\n",
    "    prediction = model(tensor).squeeze(dim=0)\n",
    "    probability = torch.softmax(prediction, dim=-1)\n",
    "    predicted_class = prediction.argmax(dim=-1).item()\n",
    "    predicted_probability = probability[predicted_class].item()\n",
    "    return predicted_class, predicted_probability"
   ],
   "id": "5c4c6f37a0ca8be7",
   "outputs": [],
   "execution_count": 74
  },
  {
   "metadata": {
    "ExecuteTime": {
     "end_time": "2025-03-24T11:43:21.937973Z",
     "start_time": "2025-03-24T11:43:21.755125Z"
    }
   },
   "cell_type": "code",
   "source": [
    "text = \"这个外卖好好吃！\"\n",
    "\n",
    "predict_sentiment(text, model, tokenizer, device)"
   ],
   "id": "6a6da8e3b78d3176",
   "outputs": [
    {
     "data": {
      "text/plain": [
       "(1, 0.9786320924758911)"
      ]
     },
     "execution_count": 75,
     "metadata": {},
     "output_type": "execute_result"
    }
   ],
   "execution_count": 75
  },
  {
   "metadata": {
    "ExecuteTime": {
     "end_time": "2025-03-24T11:43:37.966591Z",
     "start_time": "2025-03-24T11:43:37.838848Z"
    }
   },
   "cell_type": "code",
   "source": [
    "text = \"这个外卖做的不够权威！\"\n",
    "\n",
    "predict_sentiment(text, model, tokenizer, device)"
   ],
   "id": "90a22fd8e9095122",
   "outputs": [
    {
     "data": {
      "text/plain": [
       "(0, 0.9478872418403625)"
      ]
     },
     "execution_count": 77,
     "metadata": {},
     "output_type": "execute_result"
    }
   ],
   "execution_count": 77
  },
  {
   "metadata": {},
   "cell_type": "code",
   "outputs": [],
   "execution_count": null,
   "source": "",
   "id": "5a79252c5dd3725b"
  }
 ],
 "metadata": {
  "kernelspec": {
   "display_name": "Python 3",
   "language": "python",
   "name": "python3"
  },
  "language_info": {
   "codemirror_mode": {
    "name": "ipython",
    "version": 2
   },
   "file_extension": ".py",
   "mimetype": "text/x-python",
   "name": "python",
   "nbconvert_exporter": "python",
   "pygments_lexer": "ipython2",
   "version": "2.7.6"
  }
 },
 "nbformat": 4,
 "nbformat_minor": 5
}
